{
 "cells": [
  {
   "cell_type": "markdown",
   "metadata": {},
   "source": [
    "### Packages"
   ]
  },
  {
   "cell_type": "code",
   "execution_count": 1,
   "metadata": {},
   "outputs": [],
   "source": [
    "from dataclasses import dataclass\n",
    "from time import time, sleep\n",
    "from functools import lru_cache\n"
   ]
  },
  {
   "cell_type": "markdown",
   "metadata": {},
   "source": [
    "## 2 Function:\n",
    "+   with cache : __LRU__ : Least Recently Used\n",
    "+   without cache\n",
    "\n",
    "\n",
    "@lru_cache Parameters : \n",
    "+   __maxsize__ :If *maxsize* is set to None, the LRU features are disabled and the cache\n",
    "    can grow without bound.\n",
    "\n",
    "+   __typed__ :If *typed* is True, arguments of different types will be cached separately.\n",
    "    For example, f(3.0) and f(3) will be treated as distinct calls with\n",
    "    distinct results."
   ]
  },
  {
   "cell_type": "code",
   "execution_count": 2,
   "metadata": {},
   "outputs": [],
   "source": [
    "@dataclass\n",
    "class Response:\n",
    "    status_code: int\n",
    "    execution_time: int\n",
    "    content: str\n",
    "\n",
    "\n",
    "def fake_function(x,y,z) -> Response:\n",
    "    sleep(2)\n",
    "    return Response(status_code=x,\n",
    "                    execution_time=y,\n",
    "                    content=z * x)\n",
    "    \n",
    "@lru_cache(maxsize=4)\n",
    "def fake_function_cache(x,y,z) -> Response:\n",
    "    sleep(2)\n",
    "    return Response(status_code=x,\n",
    "                    execution_time=y,\n",
    "                    content=z * x)"
   ]
  },
  {
   "cell_type": "code",
   "execution_count": 3,
   "metadata": {},
   "outputs": [],
   "source": [
    "def Timer_with_cache():\n",
    "    start: float = time()\n",
    "    for i in range(0,20):\n",
    "        x:int=200\n",
    "        y:int=5\n",
    "        z:int=112\n",
    "        \n",
    "        fake_function_cache(x,y,z)\n",
    "\n",
    "    print(f\"average time: {(time() - start) / 100}\")\n",
    "    print(fake_function_cache.cache_info())\n",
    "    fake_function_cache.cache_clear()\n",
    "    \n",
    "    \n",
    "def Timer_without_cache():\n",
    "    start: float = time()\n",
    "    for i in range(0,20):\n",
    "        x:int=200\n",
    "        y:int=5\n",
    "        z:int=112\n",
    "        \n",
    "        fake_function(x,y,z)\n",
    "\n",
    "    print(f\"average time: {(time() - start) / 100}\")\n",
    "\n"
   ]
  },
  {
   "cell_type": "code",
   "execution_count": 4,
   "metadata": {},
   "outputs": [
    {
     "name": "stdout",
     "output_type": "stream",
     "text": [
      "average time: 0.020018038749694825\n",
      "CacheInfo(hits=19, misses=1, maxsize=4, currsize=1)\n"
     ]
    }
   ],
   "source": [
    "Timer_with_cache()"
   ]
  },
  {
   "cell_type": "code",
   "execution_count": 5,
   "metadata": {},
   "outputs": [
    {
     "name": "stdout",
     "output_type": "stream",
     "text": [
      "average time: 0.40038827180862424\n"
     ]
    }
   ],
   "source": [
    "Timer_without_cache()"
   ]
  },
  {
   "cell_type": "code",
   "execution_count": null,
   "metadata": {},
   "outputs": [],
   "source": []
  }
 ],
 "metadata": {
  "kernelspec": {
   "display_name": "Python 3",
   "language": "python",
   "name": "python3"
  },
  "language_info": {
   "codemirror_mode": {
    "name": "ipython",
    "version": 3
   },
   "file_extension": ".py",
   "mimetype": "text/x-python",
   "name": "python",
   "nbconvert_exporter": "python",
   "pygments_lexer": "ipython3",
   "version": "3.10.12"
  }
 },
 "nbformat": 4,
 "nbformat_minor": 2
}
