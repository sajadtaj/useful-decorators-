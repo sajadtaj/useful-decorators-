{
 "cells": [
  {
   "cell_type": "markdown",
   "metadata": {},
   "source": [
    "# Logfunction\n",
    "\n",
    "This Python decorator, named `Logfunction`, enhances functions by :\n",
    "automatically recording information about their execution:\n",
    "\n",
    "+    captures the function's name\n",
    "+    result\n",
    "+    DateTime of run\n",
    "+    and execution time\n",
    "\n",
    "This data is then stored in a file named after the function itself (e.g., my_function_log.txt). This allows you to easily track the performance and behavior of your functions over time."
   ]
  },
  {
   "cell_type": "code",
   "execution_count": 3,
   "metadata": {},
   "outputs": [],
   "source": [
    "from datetime import datetime\n",
    "import time\n",
    "\n",
    "def Logfunction(func):\n",
    "\n",
    "\n",
    "    def wrapper(*args, **kwargs):\n",
    "\n",
    "        start_time = time.time()  # Capture start time for accurate execution measurement\n",
    "        result     = func(*args, **kwargs)\n",
    "        end_time   = time.time()\n",
    "\n",
    "        execution_time = end_time - start_time\n",
    "        timestamp      = datetime.now().strftime(\"%Y-%m-%d %H:%M:%S\")  # Formatted timestamp\n",
    "\n",
    "        data = {\n",
    "            \"function\"      : func.__name__,\n",
    "            \"result\"        : result,\n",
    "            \"timestamp\"     : timestamp,\n",
    "            \"execution_time\": execution_time,\n",
    "        }\n",
    "        # Construct log file name\n",
    "        log_file_name = f\"{func.__name__}_log.txt\"\n",
    "\n",
    "        # Open file in append mode (creates if not existing)\n",
    "        with open(log_file_name, \"a\") as log_file:\n",
    "            # Write data to log file\n",
    "            log_file.write(f\"{data}\\n\")\n",
    "\n",
    "        return result\n",
    "\n",
    "    return wrapper\n",
    "\n",
    "\n"
   ]
  },
  {
   "cell_type": "code",
   "execution_count": 4,
   "metadata": {},
   "outputs": [],
   "source": [
    "@Logfunction\n",
    "def my_function(a, b):\n",
    "    \"\"\"Example function for demonstration.\"\"\"\n",
    "    time.sleep(2)  # Simulate some processing time\n",
    "    return a + b\n",
    "\n"
   ]
  },
  {
   "cell_type": "code",
   "execution_count": 6,
   "metadata": {},
   "outputs": [
    {
     "name": "stdout",
     "output_type": "stream",
     "text": [
      "Function result: 43\n"
     ]
    }
   ],
   "source": [
    "# Example usage\n",
    "result = my_function(25, 18)\n",
    "print(f\"Function result: {result}\")"
   ]
  },
  {
   "cell_type": "code",
   "execution_count": null,
   "metadata": {},
   "outputs": [],
   "source": []
  }
 ],
 "metadata": {
  "kernelspec": {
   "display_name": "Python 3",
   "language": "python",
   "name": "python3"
  },
  "language_info": {
   "codemirror_mode": {
    "name": "ipython",
    "version": 3
   },
   "file_extension": ".py",
   "mimetype": "text/x-python",
   "name": "python",
   "nbconvert_exporter": "python",
   "pygments_lexer": "ipython3",
   "version": "3.10.7"
  }
 },
 "nbformat": 4,
 "nbformat_minor": 2
}
